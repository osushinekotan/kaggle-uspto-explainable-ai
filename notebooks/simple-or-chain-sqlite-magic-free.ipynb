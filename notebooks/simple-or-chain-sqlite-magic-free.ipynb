{
 "cells": [
  {
   "cell_type": "markdown",
   "metadata": {},
   "source": [
    "参考: https://www.kaggle.com/code/raki21/simple-or-chain-sqlite-magic-free\n"
   ]
  },
  {
   "cell_type": "code",
   "execution_count": 1,
   "metadata": {},
   "outputs": [],
   "source": [
    "import polars as pl\n",
    "import rootutils\n",
    "\n",
    "ROOT_DIR = rootutils.setup_root(\".\", cwd=True)"
   ]
  },
  {
   "cell_type": "code",
   "execution_count": 2,
   "metadata": {},
   "outputs": [],
   "source": [
    "SUBSET_SIZE = 100\n",
    "NEIGHBOR_NAME = \"neighbor_\"\n",
    "\n",
    "SEED = 42"
   ]
  },
  {
   "cell_type": "code",
   "execution_count": 3,
   "metadata": {},
   "outputs": [],
   "source": [
    "DATA_DIR = ROOT_DIR / \"data\"\n",
    "INPUT_DIR = DATA_DIR / \"inputs\"\n",
    "COMPETITION_DIR = INPUT_DIR / \"uspto-explainable-ai\"\n",
    "\n",
    "# sqlite:////path/to/database.db\n",
    "SQLITE_PATH = f\"sqlite:///{(COMPETITION_DIR / 'uspto.db').as_posix()}\""
   ]
  },
  {
   "cell_type": "code",
   "execution_count": 4,
   "metadata": {},
   "outputs": [],
   "source": [
    "test_df = pl.read_csv(COMPETITION_DIR / \"test.csv\")\n",
    "\n",
    "patent_metadata_df = (\n",
    "    pl.scan_parquet(COMPETITION_DIR / \"patent_metadata.parquet\")\n",
    "    .filter(pl.col(\"publication_date\") >= pl.date(1975, 1, 1))\n",
    "    .select([\"publication_number\", \"publication_date\"])\n",
    "    .with_columns(\n",
    "        pl.col(\"publication_date\").dt.year().alias(\"year\"),\n",
    "        pl.col(\"publication_date\").dt.month().alias(\"month\"),\n",
    "    )\n",
    "    .collect()\n",
    ")\n",
    "train_samples = (\n",
    "    patent_metadata_df.sample(n=SUBSET_SIZE, with_replacement=False, seed=SEED)\n",
    "    .select(\"publication_number\")\n",
    "    .unique()\n",
    "    .to_numpy()\n",
    "    .reshape(-1)\n",
    "    .tolist()\n",
    ")\n",
    "\n",
    "nearest_neighbors_df = pl.scan_csv(COMPETITION_DIR / \"nearest_neighbors.csv\").filter(\n",
    "    pl.col(\"publication_number\").is_in(train_samples)\n",
    ")"
   ]
  }
 ],
 "metadata": {
  "kernelspec": {
   "display_name": ".venv",
   "language": "python",
   "name": "python3"
  },
  "language_info": {
   "codemirror_mode": {
    "name": "ipython",
    "version": 3
   },
   "file_extension": ".py",
   "mimetype": "text/x-python",
   "name": "python",
   "nbconvert_exporter": "python",
   "pygments_lexer": "ipython3",
   "version": "3.11.10"
  }
 },
 "nbformat": 4,
 "nbformat_minor": 2
}
